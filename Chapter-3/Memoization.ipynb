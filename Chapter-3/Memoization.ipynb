{
 "cells": [
  {
   "cell_type": "code",
   "execution_count": 30,
   "metadata": {},
   "outputs": [],
   "source": [
    "def memoize(f):\n",
    "    d = {}\n",
    "    def helper(n):\n",
    "        if n in d:\n",
    "            return d[n]\n",
    "        else:\n",
    "            d[n] = f(n)\n",
    "            return d[n]\n",
    "    return helper"
   ]
  },
  {
   "cell_type": "code",
   "execution_count": 35,
   "metadata": {},
   "outputs": [],
   "source": [
    "import time\n",
    "# time.sleep(2)\n",
    "def double(n):\n",
    "    time.sleep(1) # Time Consuming Task\n",
    "    return n * 2\n",
    "\n",
    "def time_taken(f):\n",
    "    start = int(round(time.time() * 1000))\n",
    "    f()\n",
    "    end = int(round(time.time() * 1000))\n",
    "    return str(end - start) + \" MilliSeconds\"\n",
    "\n",
    "def perf():\n",
    "    for _ in range(10):\n",
    "        double(3)\n"
   ]
  },
  {
   "cell_type": "code",
   "execution_count": 36,
   "metadata": {},
   "outputs": [
    {
     "data": {
      "text/plain": [
       "'10065 MilliSeconds'"
      ]
     },
     "execution_count": 36,
     "metadata": {},
     "output_type": "execute_result"
    }
   ],
   "source": [
    "time_taken(perf)"
   ]
  },
  {
   "cell_type": "code",
   "execution_count": 37,
   "metadata": {},
   "outputs": [],
   "source": [
    "d = memoize(double)\n",
    "\n",
    "def perf2():\n",
    "    for _ in range(10):\n",
    "        d(3)"
   ]
  },
  {
   "cell_type": "code",
   "execution_count": 38,
   "metadata": {},
   "outputs": [
    {
     "data": {
      "text/plain": [
       "'1009 MilliSeconds'"
      ]
     },
     "execution_count": 38,
     "metadata": {},
     "output_type": "execute_result"
    }
   ],
   "source": [
    "time_taken(perf2)"
   ]
  },
  {
   "cell_type": "code",
   "execution_count": null,
   "metadata": {},
   "outputs": [],
   "source": []
  }
 ],
 "metadata": {
  "kernelspec": {
   "display_name": "Python 3",
   "language": "python",
   "name": "python3"
  },
  "language_info": {
   "codemirror_mode": {
    "name": "ipython",
    "version": 3
   },
   "file_extension": ".py",
   "mimetype": "text/x-python",
   "name": "python",
   "nbconvert_exporter": "python",
   "pygments_lexer": "ipython3",
   "version": "3.6.4"
  }
 },
 "nbformat": 4,
 "nbformat_minor": 2
}
