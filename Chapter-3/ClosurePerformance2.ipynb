{
 "cells": [
  {
   "cell_type": "code",
   "execution_count": 41,
   "metadata": {},
   "outputs": [],
   "source": [
    "import time\n",
    "\n",
    "def time_taken(f):\n",
    "    start = int(round(time.time() * 1000))\n",
    "    f()\n",
    "    end = int(round(time.time() * 1000))\n",
    "    return str(end - start) + \" MilliSeconds\"\n",
    "\n",
    "class x:\n",
    "    def __init__(self, state):\n",
    "        self.state = state\n",
    "    \n",
    "    def increment_by(self, n):\n",
    "        self.state += n\n",
    "        \n",
    "def closure(state):\n",
    "    def func(n):\n",
    "        nonlocal state\n",
    "        state += n\n",
    "    return func\n"
   ]
  },
  {
   "cell_type": "code",
   "execution_count": 45,
   "metadata": {},
   "outputs": [],
   "source": [
    "def task_class():\n",
    "    x1 = x(23)\n",
    "    for i in range(0, 100000):\n",
    "        x1.increment_by(5)\n",
    "\n",
    "def task_closure():\n",
    "    cl = closure(23)\n",
    "    for i in range(0, 100000):\n",
    "        cl(5)\n"
   ]
  },
  {
   "cell_type": "code",
   "execution_count": 46,
   "metadata": {},
   "outputs": [
    {
     "data": {
      "text/plain": [
       "'24 MilliSeconds'"
      ]
     },
     "execution_count": 46,
     "metadata": {},
     "output_type": "execute_result"
    }
   ],
   "source": [
    "time_taken(task_class)"
   ]
  },
  {
   "cell_type": "code",
   "execution_count": 47,
   "metadata": {},
   "outputs": [
    {
     "data": {
      "text/plain": [
       "'14 MilliSeconds'"
      ]
     },
     "execution_count": 47,
     "metadata": {},
     "output_type": "execute_result"
    }
   ],
   "source": [
    "time_taken(task_closure)"
   ]
  },
  {
   "cell_type": "code",
   "execution_count": null,
   "metadata": {},
   "outputs": [],
   "source": []
  }
 ],
 "metadata": {
  "kernelspec": {
   "display_name": "Python 3",
   "language": "python",
   "name": "python3"
  },
  "language_info": {
   "codemirror_mode": {
    "name": "ipython",
    "version": 3
   },
   "file_extension": ".py",
   "mimetype": "text/x-python",
   "name": "python",
   "nbconvert_exporter": "python",
   "pygments_lexer": "ipython3",
   "version": "3.6.4"
  }
 },
 "nbformat": 4,
 "nbformat_minor": 2
}
