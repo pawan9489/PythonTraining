{
 "cells": [
  {
   "cell_type": "code",
   "execution_count": 10,
   "metadata": {},
   "outputs": [],
   "source": [
    "import pyodbc\n",
    "\n",
    "cnxn = pyodbc.connect(\"Driver={SQL Server Native Client 11.0};\"\n",
    "                      \"Server=bmsihcmvmdev5.ad.esi.adp.com;\"\n",
    "                      \"Database=automation_emea;\"\n",
    "                      \"uid=ihcmprofileuser;pwd=ihcmprofileuser\")\n",
    "\n",
    "cursor = cnxn.cursor()"
   ]
  },
  {
   "cell_type": "code",
   "execution_count": 14,
   "metadata": {},
   "outputs": [
    {
     "data": {
      "text/plain": [
       "30"
      ]
     },
     "execution_count": 14,
     "metadata": {},
     "output_type": "execute_result"
    }
   ],
   "source": [
    "def normalFunc(columns, f):\n",
    "    rows = cursor.execute('SELECT top 5 ' + columns + ' FROM people order by DAYOFBIRTHDAY desc')\n",
    "    dates = []\n",
    "    for row in rows:\n",
    "        dates.append(row[2])\n",
    "    return f(dates)\n",
    "\n",
    "normalFunc('referencenumber, fullname, DAYOFBIRTHDAY', min)"
   ]
  },
  {
   "cell_type": "code",
   "execution_count": 19,
   "metadata": {},
   "outputs": [
    {
     "name": "stdout",
     "output_type": "stream",
     "text": [
      "161 ms ± 2.15 ms per loop (mean ± std. dev. of 7 runs, 10 loops each)\n"
     ]
    }
   ],
   "source": [
    "%timeit normalFunc('referencenumber, fullname, DAYOFBIRTHDAY', max)"
   ]
  },
  {
   "cell_type": "code",
   "execution_count": 17,
   "metadata": {},
   "outputs": [
    {
     "data": {
      "text/plain": [
       "30"
      ]
     },
     "execution_count": 17,
     "metadata": {},
     "output_type": "execute_result"
    }
   ],
   "source": [
    "def partiallyAppliedFunc(columns):\n",
    "    rows = cursor.execute('SELECT top 5 ' + columns + ' FROM people order by DAYOFBIRTHDAY desc')\n",
    "    dates = []\n",
    "    for row in rows:\n",
    "        dates.append(row[2])\n",
    "    return lambda f : f(dates)\n",
    "\n",
    "a = partiallyAppliedFunc('referencenumber, fullname, DAYOFBIRTHDAY')\n",
    "a(min)"
   ]
  },
  {
   "cell_type": "code",
   "execution_count": 20,
   "metadata": {},
   "outputs": [
    {
     "name": "stdout",
     "output_type": "stream",
     "text": [
      "316 ns ± 6.32 ns per loop (mean ± std. dev. of 7 runs, 1000000 loops each)\n"
     ]
    }
   ],
   "source": [
    "%timeit a(max)"
   ]
  },
  {
   "cell_type": "code",
   "execution_count": null,
   "metadata": {},
   "outputs": [],
   "source": []
  }
 ],
 "metadata": {
  "kernelspec": {
   "display_name": "Python 3",
   "language": "python",
   "name": "python3"
  },
  "language_info": {
   "codemirror_mode": {
    "name": "ipython",
    "version": 3
   },
   "file_extension": ".py",
   "mimetype": "text/x-python",
   "name": "python",
   "nbconvert_exporter": "python",
   "pygments_lexer": "ipython3",
   "version": "3.6.4"
  }
 },
 "nbformat": 4,
 "nbformat_minor": 2
}
